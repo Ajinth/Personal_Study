{
 "cells": [
  {
   "cell_type": "markdown",
   "metadata": {},
   "source": [
    "# Simple CNN Tutorial "
   ]
  },
  {
   "cell_type": "markdown",
   "metadata": {
    "collapsed": true
   },
   "source": [
    "# Importing the Needed Libraries"
   ]
  },
  {
   "cell_type": "code",
   "execution_count": 78,
   "metadata": {
    "collapsed": true
   },
   "outputs": [],
   "source": [
    "'''Importing the Basic Libraries'''\n",
    "import pandas as pd\n",
    "import numpy as np \n",
    "\n",
    "'''Importing the Sklearn Stuff '''\n",
    "from sklearn.datasets import fetch_lfw_people\n",
    "from sklearn.model_selection import train_test_split\n",
    "from sklearn.preprocessing import StandardScaler\n",
    "\n",
    "'''Importing the Keras Stuff'''\n",
    "from keras.layers import Dense, Dropout, Conv2D, MaxPool2D, Flatten\n",
    "from keras.models import Sequential\n",
    "from keras.wrappers.scikit_learn import KerasClassifier\n",
    "from keras.utils import to_categorical\n",
    "\n",
    "'''Importing the Matplotlib Stuff'''\n",
    "import matplotlib.pyplot as plt \n",
    "%matplotlib inline "
   ]
  },
  {
   "cell_type": "markdown",
   "metadata": {},
   "source": [
    "# Importing the Data"
   ]
  },
  {
   "cell_type": "code",
   "execution_count": 79,
   "metadata": {
    "collapsed": true
   },
   "outputs": [],
   "source": [
    "data = fetch_lfw_people(min_faces_per_person=70)"
   ]
  },
  {
   "cell_type": "markdown",
   "metadata": {},
   "source": [
    "# Data PreProcessing"
   ]
  },
  {
   "cell_type": "code",
   "execution_count": 63,
   "metadata": {
    "collapsed": true
   },
   "outputs": [],
   "source": [
    "X = data.data\n",
    "y = to_categorical(data.target)\n",
    "\n",
    "X_train, X_test, y_train, y_test = train_test_split(X, y)\n",
    "\n",
    "'''Transforming the X_train'''\n",
    "X_train = X_train.reshape(X_train.shape[0], 62,47,1)\n",
    "X_test = X_test.reshape(X_test.shape[0], 62,47,1)\n",
    "\n",
    "X_train = X_train/255.\n",
    "X_test = X_test/255."
   ]
  },
  {
   "cell_type": "code",
   "execution_count": 59,
   "metadata": {},
   "outputs": [
    {
     "data": {
      "text/plain": [
       "<matplotlib.image.AxesImage at 0x12983eb00>"
      ]
     },
     "execution_count": 59,
     "metadata": {},
     "output_type": "execute_result"
    },
    {
     "data": {
      "image/png": "[encoded data removed]",
      "text/plain": [
       "<matplotlib.figure.Figure at 0x1292154e0>"
      ]
     },
     "metadata": {},
     "output_type": "display_data"
    }
   ],
   "source": [
    "plt.imshow(data.images[0])"
   ]
  },
  {
   "cell_type": "markdown",
   "metadata": {},
   "source": [
    "# Buidling a Simple Model"
   ]
  },
  {
   "cell_type": "code",
   "execution_count": 75,
   "metadata": {},
   "outputs": [],
   "source": [
    "model = Sequential()\n",
    "\n",
    "'''Setting up the Convolutional Layer'''\n",
    "model.add(Conv2D(15, (5,5), input_shape = (62,47,1), activation='relu')) # Default Stride\n",
    "'''Getting rid of the reduncancy from the earlier pooling'''\n",
    "model.add(MaxPool2D((2,2)))\n",
    "\n",
    "model.add(Conv2D(30, (4,4),activation='relu'))\n",
    "model.add(MaxPool2D((2,2)))\n",
    "model.add(Flatten()) # To Fully Connect \n",
    "\n",
    "model.add(Dense(50, activation='relu'))\n",
    "model.add(Dense(y.shape[1], activation='softmax'))\n",
    "\n",
    "model.compile(optimizer='adam', loss='categorical_crossentropy', metrics=['accuracy'])"
   ]
  },
  {
   "cell_type": "markdown",
   "metadata": {},
   "source": [
    "# Fitting the Model"
   ]
  },
  {
   "cell_type": "code",
   "execution_count": 77,
   "metadata": {},
   "outputs": [
    {
     "name": "stdout",
     "output_type": "stream",
     "text": [
      "Epoch 1/50\n",
      "966/966 [==============================] - 2s 2ms/step - loss: 0.7943 - acc: 0.7319\n",
      "Epoch 2/50\n",
      "966/966 [==============================] - 2s 2ms/step - loss: 0.6271 - acc: 0.7992\n",
      "Epoch 3/50\n",
      "966/966 [==============================] - 2s 2ms/step - loss: 0.5075 - acc: 0.8333\n",
      "Epoch 4/50\n",
      "966/966 [==============================] - 2s 2ms/step - loss: 0.4217 - acc: 0.8644\n",
      "Epoch 5/50\n",
      "966/966 [==============================] - 2s 2ms/step - loss: 0.3522 - acc: 0.8882\n",
      "Epoch 6/50\n",
      "966/966 [==============================] - 2s 2ms/step - loss: 0.2880 - acc: 0.9203\n",
      "Epoch 7/50\n",
      "966/966 [==============================] - 2s 2ms/step - loss: 0.2403 - acc: 0.9275A: 1s - l\n",
      "Epoch 8/50\n",
      "966/966 [==============================] - 2s 2ms/step - loss: 0.1795 - acc: 0.9451\n",
      "Epoch 9/50\n",
      "966/966 [==============================] - 2s 2ms/step - loss: 0.1296 - acc: 0.9720\n",
      "Epoch 10/50\n",
      "966/966 [==============================] - 2s 2ms/step - loss: 0.1170 - acc: 0.9720\n",
      "Epoch 11/50\n",
      "966/966 [==============================] - 2s 2ms/step - loss: 0.0958 - acc: 0.9720\n",
      "Epoch 12/50\n",
      "966/966 [==============================] - 2s 2ms/step - loss: 0.0812 - acc: 0.9845\n",
      "Epoch 13/50\n",
      "966/966 [==============================] - 2s 2ms/step - loss: 0.0739 - acc: 0.9834\n",
      "Epoch 14/50\n",
      "966/966 [==============================] - 2s 2ms/step - loss: 0.0506 - acc: 0.9938\n",
      "Epoch 15/50\n",
      "966/966 [==============================] - 2s 2ms/step - loss: 0.0323 - acc: 0.9979\n",
      "Epoch 16/50\n",
      "966/966 [==============================] - 2s 2ms/step - loss: 0.0260 - acc: 1.0000\n",
      "Epoch 17/50\n",
      "966/966 [==============================] - 2s 2ms/step - loss: 0.0197 - acc: 1.0000\n",
      "Epoch 18/50\n",
      "966/966 [==============================] - 2s 2ms/step - loss: 0.0141 - acc: 1.0000\n",
      "Epoch 19/50\n",
      "966/966 [==============================] - 2s 2ms/step - loss: 0.0111 - acc: 1.0000\n",
      "Epoch 20/50\n",
      "966/966 [==============================] - 2s 2ms/step - loss: 0.0101 - acc: 1.0000\n",
      "Epoch 21/50\n",
      "966/966 [==============================] - 2s 2ms/step - loss: 0.0091 - acc: 1.0000\n",
      "Epoch 22/50\n",
      "966/966 [==============================] - 2s 2ms/step - loss: 0.0076 - acc: 1.0000\n",
      "Epoch 23/50\n",
      "966/966 [==============================] - 2s 2ms/step - loss: 0.0065 - acc: 1.0000\n",
      "Epoch 24/50\n",
      "966/966 [==============================] - 2s 2ms/step - loss: 0.0062 - acc: 1.0000\n",
      "Epoch 25/50\n",
      "966/966 [==============================] - 2s 2ms/step - loss: 0.0060 - acc: 1.0000\n",
      "Epoch 26/50\n",
      "966/966 [==============================] - 2s 2ms/step - loss: 0.0057 - acc: 1.0000\n",
      "Epoch 27/50\n",
      "966/966 [==============================] - 2s 2ms/step - loss: 0.0041 - acc: 1.0000\n",
      "Epoch 28/50\n",
      "966/966 [==============================] - 2s 2ms/step - loss: 0.0038 - acc: 1.0000\n",
      "Epoch 29/50\n",
      "966/966 [==============================] - 2s 2ms/step - loss: 0.0035 - acc: 1.0000\n",
      "Epoch 30/50\n",
      "966/966 [==============================] - 2s 2ms/step - loss: 0.0031 - acc: 1.0000\n",
      "Epoch 31/50\n",
      "966/966 [==============================] - 2s 2ms/step - loss: 0.0028 - acc: 1.0000\n",
      "Epoch 32/50\n",
      "966/966 [==============================] - 2s 2ms/step - loss: 0.0027 - acc: 1.0000\n",
      "Epoch 33/50\n",
      "966/966 [==============================] - 2s 2ms/step - loss: 0.0024 - acc: 1.0000\n",
      "Epoch 34/50\n",
      "966/966 [==============================] - 2s 2ms/step - loss: 0.0024 - acc: 1.0000\n",
      "Epoch 35/50\n",
      "966/966 [==============================] - 2s 2ms/step - loss: 0.0022 - acc: 1.0000\n",
      "Epoch 36/50\n",
      "966/966 [==============================] - 2s 2ms/step - loss: 0.0021 - acc: 1.0000\n",
      "Epoch 37/50\n",
      "966/966 [==============================] - 2s 2ms/step - loss: 0.0019 - acc: 1.0000\n",
      "Epoch 38/50\n",
      "966/966 [==============================] - 2s 2ms/step - loss: 0.0019 - acc: 1.0000\n",
      "Epoch 39/50\n",
      "966/966 [==============================] - 2s 2ms/step - loss: 0.0017 - acc: 1.0000\n",
      "Epoch 40/50\n",
      "966/966 [==============================] - 2s 2ms/step - loss: 0.0016 - acc: 1.0000\n",
      "Epoch 41/50\n",
      "966/966 [==============================] - 2s 2ms/step - loss: 0.0015 - acc: 1.0000\n",
      "Epoch 42/50\n",
      "966/966 [==============================] - 2s 2ms/step - loss: 0.0014 - acc: 1.0000\n",
      "Epoch 43/50\n",
      "966/966 [==============================] - 2s 2ms/step - loss: 0.0014 - acc: 1.0000\n",
      "Epoch 44/50\n",
      "966/966 [==============================] - 2s 2ms/step - loss: 0.0013 - acc: 1.0000\n",
      "Epoch 45/50\n",
      "966/966 [==============================] - 2s 2ms/step - loss: 0.0012 - acc: 1.0000\n",
      "Epoch 46/50\n",
      "966/966 [==============================] - 2s 2ms/step - loss: 0.0012 - acc: 1.0000\n",
      "Epoch 47/50\n",
      "966/966 [==============================] - 2s 2ms/step - loss: 0.0011 - acc: 1.0000\n",
      "Epoch 48/50\n",
      "966/966 [==============================] - 2s 2ms/step - loss: 0.0010 - acc: 1.0000\n",
      "Epoch 49/50\n",
      "966/966 [==============================] - 2s 2ms/step - loss: 9.9044e-04 - acc: 1.0000\n",
      "Epoch 50/50\n",
      "966/966 [==============================] - 2s 2ms/step - loss: 9.7212e-04 - acc: 1.0000\n"
     ]
    },
    {
     "data": {
      "text/plain": [
       "<keras.callbacks.History at 0x129e09ac8>"
      ]
     },
     "execution_count": 77,
     "metadata": {},
     "output_type": "execute_result"
    }
   ],
   "source": [
    "model.fit(X_train, y_train, epochs=50, verbose=1)"
   ]
  },
  {
   "cell_type": "markdown",
   "metadata": {},
   "source": [
    "# Another CNN  - with Digits Analyzer from Kaggle "
   ]
  },
  {
   "cell_type": "code",
   "execution_count": 81,
   "metadata": {
    "collapsed": true
   },
   "outputs": [],
   "source": [
    "df = pd.read_csv('train.csv')"
   ]
  },
  {
   "cell_type": "code",
   "execution_count": 82,
   "metadata": {},
   "outputs": [
    {
     "data": {
      "text/html": [
       "<div>\n",
       "<style scoped>\n",
       "    .dataframe tbody tr th:only-of-type {\n",
       "        vertical-align: middle;\n",
       "    }\n",
       "\n",
       "    .dataframe tbody tr th {\n",
       "        vertical-align: top;\n",
       "    }\n",
       "\n",
       "    .dataframe thead th {\n",
       "        text-align: right;\n",
       "    }\n",
       "</style>\n",
       "<table border=\"1\" class=\"dataframe\">\n",
       "  <thead>\n",
       "    <tr style=\"text-align: right;\">\n",
       "      <th></th>\n",
       "      <th>label</th>\n",
       "      <th>pixel0</th>\n",
       "      <th>pixel1</th>\n",
       "      <th>pixel2</th>\n",
       "      <th>pixel3</th>\n",
       "      <th>pixel4</th>\n",
       "      <th>pixel5</th>\n",
       "      <th>pixel6</th>\n",
       "      <th>pixel7</th>\n",
       "      <th>pixel8</th>\n",
       "      <th>...</th>\n",
       "      <th>pixel774</th>\n",
       "      <th>pixel775</th>\n",
       "      <th>pixel776</th>\n",
       "      <th>pixel777</th>\n",
       "      <th>pixel778</th>\n",
       "      <th>pixel779</th>\n",
       "      <th>pixel780</th>\n",
       "      <th>pixel781</th>\n",
       "      <th>pixel782</th>\n",
       "      <th>pixel783</th>\n",
       "    </tr>\n",
       "  </thead>\n",
       "  <tbody>\n",
       "    <tr>\n",
       "      <th>0</th>\n",
       "      <td>1</td>\n",
       "      <td>0</td>\n",
       "      <td>0</td>\n",
       "      <td>0</td>\n",
       "      <td>0</td>\n",
       "      <td>0</td>\n",
       "      <td>0</td>\n",
       "      <td>0</td>\n",
       "      <td>0</td>\n",
       "      <td>0</td>\n",
       "      <td>...</td>\n",
       "      <td>0</td>\n",
       "      <td>0</td>\n",
       "      <td>0</td>\n",
       "      <td>0</td>\n",
       "      <td>0</td>\n",
       "      <td>0</td>\n",
       "      <td>0</td>\n",
       "      <td>0</td>\n",
       "      <td>0</td>\n",
       "      <td>0</td>\n",
       "    </tr>\n",
       "    <tr>\n",
       "      <th>1</th>\n",
       "      <td>0</td>\n",
       "      <td>0</td>\n",
       "      <td>0</td>\n",
       "      <td>0</td>\n",
       "      <td>0</td>\n",
       "      <td>0</td>\n",
       "      <td>0</td>\n",
       "      <td>0</td>\n",
       "      <td>0</td>\n",
       "      <td>0</td>\n",
       "      <td>...</td>\n",
       "      <td>0</td>\n",
       "      <td>0</td>\n",
       "      <td>0</td>\n",
       "      <td>0</td>\n",
       "      <td>0</td>\n",
       "      <td>0</td>\n",
       "      <td>0</td>\n",
       "      <td>0</td>\n",
       "      <td>0</td>\n",
       "      <td>0</td>\n",
       "    </tr>\n",
       "    <tr>\n",
       "      <th>2</th>\n",
       "      <td>1</td>\n",
       "      <td>0</td>\n",
       "      <td>0</td>\n",
       "      <td>0</td>\n",
       "      <td>0</td>\n",
       "      <td>0</td>\n",
       "      <td>0</td>\n",
       "      <td>0</td>\n",
       "      <td>0</td>\n",
       "      <td>0</td>\n",
       "      <td>...</td>\n",
       "      <td>0</td>\n",
       "      <td>0</td>\n",
       "      <td>0</td>\n",
       "      <td>0</td>\n",
       "      <td>0</td>\n",
       "      <td>0</td>\n",
       "      <td>0</td>\n",
       "      <td>0</td>\n",
       "      <td>0</td>\n",
       "      <td>0</td>\n",
       "    </tr>\n",
       "    <tr>\n",
       "      <th>3</th>\n",
       "      <td>4</td>\n",
       "      <td>0</td>\n",
       "      <td>0</td>\n",
       "      <td>0</td>\n",
       "      <td>0</td>\n",
       "      <td>0</td>\n",
       "      <td>0</td>\n",
       "      <td>0</td>\n",
       "      <td>0</td>\n",
       "      <td>0</td>\n",
       "      <td>...</td>\n",
       "      <td>0</td>\n",
       "      <td>0</td>\n",
       "      <td>0</td>\n",
       "      <td>0</td>\n",
       "      <td>0</td>\n",
       "      <td>0</td>\n",
       "      <td>0</td>\n",
       "      <td>0</td>\n",
       "      <td>0</td>\n",
       "      <td>0</td>\n",
       "    </tr>\n",
       "    <tr>\n",
       "      <th>4</th>\n",
       "      <td>0</td>\n",
       "      <td>0</td>\n",
       "      <td>0</td>\n",
       "      <td>0</td>\n",
       "      <td>0</td>\n",
       "      <td>0</td>\n",
       "      <td>0</td>\n",
       "      <td>0</td>\n",
       "      <td>0</td>\n",
       "      <td>0</td>\n",
       "      <td>...</td>\n",
       "      <td>0</td>\n",
       "      <td>0</td>\n",
       "      <td>0</td>\n",
       "      <td>0</td>\n",
       "      <td>0</td>\n",
       "      <td>0</td>\n",
       "      <td>0</td>\n",
       "      <td>0</td>\n",
       "      <td>0</td>\n",
       "      <td>0</td>\n",
       "    </tr>\n",
       "  </tbody>\n",
       "</table>\n",
       "<p>5 rows × 785 columns</p>\n",
       "</div>"
      ],
      "text/plain": [
       "   label  pixel0  pixel1  pixel2  pixel3  pixel4  pixel5  pixel6  pixel7  \\\n",
       "0      1       0       0       0       0       0       0       0       0   \n",
       "1      0       0       0       0       0       0       0       0       0   \n",
       "2      1       0       0       0       0       0       0       0       0   \n",
       "3      4       0       0       0       0       0       0       0       0   \n",
       "4      0       0       0       0       0       0       0       0       0   \n",
       "\n",
       "   pixel8    ...     pixel774  pixel775  pixel776  pixel777  pixel778  \\\n",
       "0       0    ...            0         0         0         0         0   \n",
       "1       0    ...            0         0         0         0         0   \n",
       "2       0    ...            0         0         0         0         0   \n",
       "3       0    ...            0         0         0         0         0   \n",
       "4       0    ...            0         0         0         0         0   \n",
       "\n",
       "   pixel779  pixel780  pixel781  pixel782  pixel783  \n",
       "0         0         0         0         0         0  \n",
       "1         0         0         0         0         0  \n",
       "2         0         0         0         0         0  \n",
       "3         0         0         0         0         0  \n",
       "4         0         0         0         0         0  \n",
       "\n",
       "[5 rows x 785 columns]"
      ]
     },
     "execution_count": 82,
     "metadata": {},
     "output_type": "execute_result"
    }
   ],
   "source": [
    "df.head()"
   ]
  },
  {
   "cell_type": "code",
   "execution_count": 87,
   "metadata": {
    "collapsed": true
   },
   "outputs": [],
   "source": [
    "y = to_categorical(df['label'].values)"
   ]
  },
  {
   "cell_type": "code",
   "execution_count": 88,
   "metadata": {},
   "outputs": [
    {
     "data": {
      "text/plain": [
       "array([[ 0.,  1.,  0., ...,  0.,  0.,  0.],\n",
       "       [ 1.,  0.,  0., ...,  0.,  0.,  0.],\n",
       "       [ 0.,  1.,  0., ...,  0.,  0.,  0.],\n",
       "       ..., \n",
       "       [ 0.,  0.,  0., ...,  1.,  0.,  0.],\n",
       "       [ 0.,  0.,  0., ...,  0.,  0.,  0.],\n",
       "       [ 0.,  0.,  0., ...,  0.,  0.,  1.]])"
      ]
     },
     "execution_count": 88,
     "metadata": {},
     "output_type": "execute_result"
    }
   ],
   "source": [
    "y"
   ]
  },
  {
   "cell_type": "code",
   "execution_count": 102,
   "metadata": {
    "collapsed": true
   },
   "outputs": [],
   "source": [
    "X_train, X_test, y_train, y_test = train_test_split(df[df.columns[1:]].values, y)"
   ]
  },
  {
   "cell_type": "code",
   "execution_count": 103,
   "metadata": {},
   "outputs": [
    {
     "data": {
      "text/plain": [
       "(31500, 784)"
      ]
     },
     "execution_count": 103,
     "metadata": {},
     "output_type": "execute_result"
    }
   ],
   "source": [
    "X_train.shape"
   ]
  },
  {
   "cell_type": "code",
   "execution_count": 104,
   "metadata": {},
   "outputs": [
    {
     "data": {
      "text/plain": [
       "(10500, 784)"
      ]
     },
     "execution_count": 104,
     "metadata": {},
     "output_type": "execute_result"
    }
   ],
   "source": [
    "X_test.shape"
   ]
  },
  {
   "cell_type": "code",
   "execution_count": 105,
   "metadata": {},
   "outputs": [
    {
     "data": {
      "text/plain": [
       "(31500, 10)"
      ]
     },
     "execution_count": 105,
     "metadata": {},
     "output_type": "execute_result"
    }
   ],
   "source": [
    "y_train.shape"
   ]
  },
  {
   "cell_type": "code",
   "execution_count": 106,
   "metadata": {},
   "outputs": [
    {
     "data": {
      "text/plain": [
       "(10500, 10)"
      ]
     },
     "execution_count": 106,
     "metadata": {},
     "output_type": "execute_result"
    }
   ],
   "source": [
    "y_test.shape"
   ]
  },
  {
   "cell_type": "code",
   "execution_count": 107,
   "metadata": {
    "collapsed": true
   },
   "outputs": [],
   "source": [
    "X_train = X_train/255.\n",
    "\n",
    "X_test = X_test/255."
   ]
  },
  {
   "cell_type": "code",
   "execution_count": 108,
   "metadata": {},
   "outputs": [
    {
     "data": {
      "text/plain": [
       "<matplotlib.image.AxesImage at 0x12ab3a6a0>"
      ]
     },
     "execution_count": 108,
     "metadata": {},
     "output_type": "execute_result"
    },
    {
     "data": {
      "image/png": "[encoded data removed]",
      "text/plain": [
       "<matplotlib.figure.Figure at 0x13f99c5f8>"
      ]
     },
     "metadata": {},
     "output_type": "display_data"
    }
   ],
   "source": [
    "plt.imshow(df.iloc[5,1:].values.reshape(28,28))"
   ]
  },
  {
   "cell_type": "code",
   "execution_count": 109,
   "metadata": {},
   "outputs": [],
   "source": [
    "X_train = X_train.reshape(X_train.shape[0],28,28,1)\n",
    "X_test = X_test.reshape(X_test.shape[0],28,28,1)"
   ]
  },
  {
   "cell_type": "code",
   "execution_count": 118,
   "metadata": {
    "collapsed": true
   },
   "outputs": [],
   "source": [
    "model = Sequential()\n",
    "\n",
    "model.add(Conv2D(15, kernel_size=(5,5), input_shape = (28,28,1), activation='relu'))\n",
    "model.add(MaxPool2D((2,2)))\n",
    "\n",
    "model.add(Conv2D(30, kernel_size=(4,4), activation='relu'))\n",
    "model.add(MaxPool2D((2,2)))\n",
    "\n",
    "model.add(Conv2D(45, (3,3), activation='relu'))\n",
    "model.add(MaxPool2D((2,2)))\n",
    "\n",
    "model.add(Flatten())\n",
    "model.add(Dense(50, activation='relu'))\n",
    "\n",
    "model.add(Dense(10, activation='softmax'))\n",
    "\n",
    "model.compile(optimizer='adam', loss='categorical_crossentropy', metrics = ['accuracy'])"
   ]
  },
  {
   "cell_type": "code",
   "execution_count": 119,
   "metadata": {},
   "outputs": [
    {
     "name": "stdout",
     "output_type": "stream",
     "text": [
      "Train on 31500 samples, validate on 10500 samples\n",
      "Epoch 1/5\n",
      "31500/31500 [==============================] - 16s 506us/step - loss: 0.3311 - acc: 0.8965 - val_loss: 0.1091 - val_acc: 0.9690\n",
      "Epoch 2/5\n",
      "31500/31500 [==============================] - 15s 483us/step - loss: 0.0967 - acc: 0.9705 - val_loss: 0.0837 - val_acc: 0.9752\n",
      "Epoch 3/5\n",
      "31500/31500 [==============================] - 15s 482us/step - loss: 0.0662 - acc: 0.9798 - val_loss: 0.0613 - val_acc: 0.9818\n",
      "Epoch 4/5\n",
      "31500/31500 [==============================] - 15s 484us/step - loss: 0.0525 - acc: 0.9834 - val_loss: 0.0723 - val_acc: 0.9771\n",
      "Epoch 5/5\n",
      "31500/31500 [==============================] - 16s 513us/step - loss: 0.0429 - acc: 0.9869 - val_loss: 0.0626 - val_acc: 0.9807\n"
     ]
    },
    {
     "data": {
      "text/plain": [
       "<keras.callbacks.History at 0x13fbaadd8>"
      ]
     },
     "execution_count": 119,
     "metadata": {},
     "output_type": "execute_result"
    }
   ],
   "source": [
    "model.fit(X_train,y_train, validation_data=[X_test, y_test], epochs=5)"
   ]
  },
  {
   "cell_type": "code",
   "execution_count": 120,
   "metadata": {},
   "outputs": [
    {
     "name": "stdout",
     "output_type": "stream",
     "text": [
      "_________________________________________________________________\n",
      "Layer (type)                 Output Shape              Param #   \n",
      "=================================================================\n",
      "conv2d_30 (Conv2D)           (None, 24, 24, 15)        390       \n",
      "_________________________________________________________________\n",
      "max_pooling2d_29 (MaxPooling (None, 12, 12, 15)        0         \n",
      "_________________________________________________________________\n",
      "conv2d_31 (Conv2D)           (None, 9, 9, 30)          7230      \n",
      "_________________________________________________________________\n",
      "max_pooling2d_30 (MaxPooling (None, 4, 4, 30)          0         \n",
      "_________________________________________________________________\n",
      "conv2d_32 (Conv2D)           (None, 2, 2, 45)          12195     \n",
      "_________________________________________________________________\n",
      "max_pooling2d_31 (MaxPooling (None, 1, 1, 45)          0         \n",
      "_________________________________________________________________\n",
      "flatten_8 (Flatten)          (None, 45)                0         \n",
      "_________________________________________________________________\n",
      "dense_11 (Dense)             (None, 50)                2300      \n",
      "_________________________________________________________________\n",
      "dense_12 (Dense)             (None, 10)                510       \n",
      "=================================================================\n",
      "Total params: 22,625\n",
      "Trainable params: 22,625\n",
      "Non-trainable params: 0\n",
      "_________________________________________________________________\n"
     ]
    }
   ],
   "source": [
    "model.summary()"
   ]
  },
  {
   "cell_type": "code",
   "execution_count": 121,
   "metadata": {
    "collapsed": true
   },
   "outputs": [],
   "source": [
    "# GridSearch "
   ]
  },
  {
   "cell_type": "code",
   "execution_count": null,
   "metadata": {
    "collapsed": true
   },
   "outputs": [],
   "source": []
  }
 ],
 "metadata": {
  "kernelspec": {
   "display_name": "Python 3",
   "language": "python",
   "name": "python3"
  },
  "language_info": {
   "codemirror_mode": {
    "name": "ipython",
    "version": 3
   },
   "file_extension": ".py",
   "mimetype": "text/x-python",
   "name": "python",
   "nbconvert_exporter": "python",
   "pygments_lexer": "ipython3",
   "version": "3.6.1"
  }
 },
 "nbformat": 4,
 "nbformat_minor": 2
}
